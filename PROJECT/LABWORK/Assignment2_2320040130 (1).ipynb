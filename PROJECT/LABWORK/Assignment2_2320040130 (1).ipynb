{
  "nbformat": 4,
  "nbformat_minor": 0,
  "metadata": {
    "colab": {
      "provenance": []
    },
    "kernelspec": {
      "name": "python3",
      "display_name": "Python 3"
    },
    "language_info": {
      "name": "python"
    }
  },
  "cells": [
    {
      "cell_type": "markdown",
      "source": [
        "UNINFORMED SEARCH TECHNIQUE\n",
        "- BFS\n",
        "- DFS\n",
        "- IDFS"
      ],
      "metadata": {
        "id": "FXVCGRjfVdLu"
      }
    },
    {
      "cell_type": "code",
      "source": [
        "\n",
        "graph = {\n",
        "    'A': ['B', 'C'],\n",
        "    'B': ['D', 'E'],\n",
        "    'C': ['F'],\n",
        "    'D': [],\n",
        "    'E': ['F'],\n",
        "    'F': []\n",
        "}\n",
        "\n",
        "def dfs(graph, start_node, visited=None):\n",
        "    if visited is None:\n",
        "        visited = set()\n",
        "    visited.add(start_node)\n",
        "    print(start_node)\n",
        "\n",
        "    for neighbor in graph[start_node]:\n",
        "        if neighbor not in visited:\n",
        "            dfs(graph, neighbor, visited)\n",
        "\n",
        "if __name__ == \"__main__\":\n",
        "    dfs(graph, 'A')\n"
      ],
      "metadata": {
        "colab": {
          "base_uri": "https://localhost:8080/"
        },
        "id": "pZDYm1XQb0CJ",
        "outputId": "30e27377-957c-44c9-e28e-baeffd6fc9d1"
      },
      "execution_count": null,
      "outputs": [
        {
          "output_type": "stream",
          "name": "stdout",
          "text": [
            "A\n",
            "B\n",
            "D\n",
            "E\n",
            "F\n",
            "C\n"
          ]
        }
      ]
    },
    {
      "cell_type": "code",
      "source": [
        "def dfs(g, start):\n",
        "    visited = set()\n",
        "    stack = [start]\n",
        "\n",
        "    while stack:\n",
        "        node = stack.pop()\n",
        "        if node not in visited:\n",
        "            print(node)\n",
        "            visited.add(node)\n",
        "            stack.extend(reversed(g[node]))\n",
        "g = {\n",
        "    1: [2, 3],\n",
        "    2: [1, 4, 5],\n",
        "    3: [1, 5],\n",
        "    4: [2, 6],\n",
        "    5: [2, 3],\n",
        "    6: [4]\n",
        "}\n",
        "dfs(g, 1)"
      ],
      "metadata": {
        "colab": {
          "base_uri": "https://localhost:8080/"
        },
        "id": "zjbcSOQiew-s",
        "outputId": "a9396770-95e4-43a3-beed-f61793878937"
      },
      "execution_count": 2,
      "outputs": [
        {
          "output_type": "stream",
          "name": "stdout",
          "text": [
            "1\n",
            "2\n",
            "4\n",
            "6\n",
            "5\n",
            "3\n"
          ]
        }
      ]
    },
    {
      "cell_type": "code",
      "source": [
        "def iddfs(g, start, max_depth):\n",
        "    def dfs(node, depth, visited):\n",
        "        if depth == 0:\n",
        "            return\n",
        "        print(node)\n",
        "        visited.add(node)\n",
        "        for neighbor in g[node]:\n",
        "            if neighbor not in visited:\n",
        "                dfs(neighbor, depth - 1, visited)\n",
        "\n",
        "    for depth in range(1, max_depth + 1):\n",
        "        print(f\"Depth {depth}:\")\n",
        "        visited = set()\n",
        "        dfs(start, depth, visited)\n",
        "        print()\n",
        "\n",
        "g = {\n",
        "    1: [2, 3],\n",
        "    2: [1, 4, 5],\n",
        "    3: [1, 5],\n",
        "    4: [2, 6],\n",
        "    5: [2, 3],\n",
        "    6: [4]\n",
        "}\n",
        "\n",
        "iddfs(g, 1, 3)\n"
      ],
      "metadata": {
        "colab": {
          "base_uri": "https://localhost:8080/"
        },
        "id": "UuhAb9YEe5Im",
        "outputId": "ca43e1ac-76b2-430b-e4f2-2e0f7c34e443"
      },
      "execution_count": 3,
      "outputs": [
        {
          "output_type": "stream",
          "name": "stdout",
          "text": [
            "Depth 1:\n",
            "1\n",
            "\n",
            "Depth 2:\n",
            "1\n",
            "2\n",
            "3\n",
            "\n",
            "Depth 3:\n",
            "1\n",
            "2\n",
            "4\n",
            "5\n",
            "3\n",
            "\n"
          ]
        }
      ]
    },
    {
      "cell_type": "markdown",
      "source": [
        "INFORMED SEARCH TECHNIQUE\n",
        "- A*SEARCH\n",
        "- BEST FIRST SEARCH"
      ],
      "metadata": {
        "id": "O16UEb-kVwY7"
      }
    },
    {
      "cell_type": "code",
      "source": [
        "import heapq\n",
        "def astar(graph, start, goal, h):\n",
        "    queue = [(h[start], start, 0)]\n",
        "    visited = set()\n",
        "    while queue:\n",
        "        f, node, g = heapq.heappop(queue)\n",
        "        if node in visited:\n",
        "            continue\n",
        "        print(node)\n",
        "        visited.add(node)\n",
        "        if node == goal:\n",
        "            break\n",
        "        for neighbor, cost in graph[node]:\n",
        "            if neighbor not in visited:\n",
        "                new_g = g + cost\n",
        "                new_f = new_g + h[neighbor]\n",
        "                heapq.heappush(queue, (new_f, neighbor, new_g))\n",
        "\n",
        "graph = {\n",
        "    1: [(2, 1), (3, 4)],\n",
        "    2: [(4, 1), (5, 4)],\n",
        "    3: [(5, 2)],\n",
        "    4: [(6, 2)],\n",
        "    5: [(6, 1)],\n",
        "    6: []\n",
        "}\n",
        "\n",
        "h = {\n",
        "    1: 5,\n",
        "    2: 3,\n",
        "    3: 2,\n",
        "    4: 2,\n",
        "    5: 1,\n",
        "    6: 0\n",
        "}\n",
        "astar(graph, 1, 6, h)\n"
      ],
      "metadata": {
        "colab": {
          "base_uri": "https://localhost:8080/"
        },
        "id": "wKApTVhGfJLG",
        "outputId": "f5682a56-aac5-4fd8-e630-3c17338efb6a"
      },
      "execution_count": 4,
      "outputs": [
        {
          "output_type": "stream",
          "name": "stdout",
          "text": [
            "1\n",
            "2\n",
            "4\n",
            "6\n"
          ]
        }
      ]
    },
    {
      "cell_type": "code",
      "source": [
        "import heapq\n",
        "def best_first_search(graph, start, goal, h):\n",
        "    queue = [(h[start], start)]\n",
        "    visited = set()\n",
        "\n",
        "    while queue:\n",
        "        _, node = heapq.heappop(queue)\n",
        "        if node in visited:\n",
        "            continue\n",
        "        print(node)\n",
        "        visited.add(node)\n",
        "        if node == goal:\n",
        "            break\n",
        "        for neighbor, _ in graph[node]:\n",
        "            if neighbor not in visited:\n",
        "                heapq.heappush(queue, (h[neighbor], neighbor))\n",
        "graph = {\n",
        "    1: [(2, 1), (3, 4)],\n",
        "    2: [(4, 1), (5, 4)],\n",
        "    3: [(5, 2)],\n",
        "    4: [(6, 2)],\n",
        "    5: [(6, 1)],\n",
        "    6: []\n",
        "}\n",
        "h = {\n",
        "    1: 5,\n",
        "    2: 3,\n",
        "    3: 2,\n",
        "    4: 2,\n",
        "    5: 1,\n",
        "    6: 0\n",
        "}\n",
        "best_first_search(graph, 1, 6, h)\n"
      ],
      "metadata": {
        "colab": {
          "base_uri": "https://localhost:8080/"
        },
        "id": "WLQ3C16UfTa7",
        "outputId": "5cd7b636-deac-4d48-bf78-c1037455afa5"
      },
      "execution_count": 5,
      "outputs": [
        {
          "output_type": "stream",
          "name": "stdout",
          "text": [
            "1\n",
            "3\n",
            "5\n",
            "6\n"
          ]
        }
      ]
    },
    {
      "cell_type": "markdown",
      "source": [
        "ADVERSAL SEARCH TEHCNIQUE\n",
        "- ALPHA BETA PUNNING\n",
        "- MIN MAX"
      ],
      "metadata": {
        "id": "5U3oxK1bV58f"
      }
    },
    {
      "cell_type": "code",
      "source": [
        "import math\n",
        "\n",
        "MIN = -math.inf\n",
        "MAX = math.inf\n",
        "\n",
        "def alpha_beta(depth, node_index, maximizing_player, values, alpha, beta):\n",
        "    if depth == 3:\n",
        "        return values[node_index]\n",
        "\n",
        "    if maximizing_player:\n",
        "        max_eval = MIN\n",
        "        for i in range(2):\n",
        "            eval = alpha_beta(depth + 1, node_index * 2 + i, False, values, alpha, beta)\n",
        "            max_eval = max(max_eval, eval)\n",
        "            alpha = max(alpha, eval)\n",
        "            if beta <= alpha:\n",
        "                break\n",
        "        return max_eval\n",
        "    else:\n",
        "        min_eval = MAX\n",
        "        for i in range(2):\n",
        "            eval = alpha_beta(depth + 1, node_index * 2 + i, True, values, alpha, beta)\n",
        "            min_eval = min(min_eval, eval)\n",
        "            beta = min(beta, eval)\n",
        "            if beta <= alpha:\n",
        "                break\n",
        "        return min_eval\n",
        "\n",
        "values = [1, 5, 6, 4, 3, 2, 0, -1]\n",
        "result = alpha_beta(0, 0, True, values, MIN, MAX)\n",
        "print(\"The optimal value is:\", result)\n"
      ],
      "metadata": {
        "colab": {
          "base_uri": "https://localhost:8080/"
        },
        "id": "awIi4Smefg48",
        "outputId": "2c053101-fec9-4a41-95cc-cf3e2922f9b8"
      },
      "execution_count": 6,
      "outputs": [
        {
          "output_type": "stream",
          "name": "stdout",
          "text": [
            "The optimal value is: 5\n"
          ]
        }
      ]
    },
    {
      "cell_type": "code",
      "source": [
        "def minimax(depth, is_maximizing, values):\n",
        "    if depth == len(values):\n",
        "        return values[depth - 1]\n",
        "\n",
        "    if is_maximizing:\n",
        "        best_value = float('-inf')\n",
        "        for i in range(2):\n",
        "            val = minimax(depth + 1, False, values)\n",
        "            best_value = max(best_value, val)\n",
        "        return best_value\n",
        "    else:\n",
        "        best_value = float('inf')\n",
        "        for i in range(2):\n",
        "            val = minimax(depth + 1, True, values)\n",
        "            best_value = min(best_value, val)\n",
        "        return best_value\n",
        "\n",
        "values = [1, 12, 3, 4, 4, 8, 11, 5]\n",
        "result = minimax(1, True, values)\n",
        "print(\"The optimal value is:\", result)"
      ],
      "metadata": {
        "colab": {
          "base_uri": "https://localhost:8080/"
        },
        "id": "fywomVDnfo3H",
        "outputId": "33386cb9-394d-4b4f-93ed-9a7a82503e55"
      },
      "execution_count": 7,
      "outputs": [
        {
          "output_type": "stream",
          "name": "stdout",
          "text": [
            "The optimal value is: 5\n"
          ]
        }
      ]
    }
  ]
}